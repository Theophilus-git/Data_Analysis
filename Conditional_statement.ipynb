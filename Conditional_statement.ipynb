{
 "cells": [
  {
   "cell_type": "code",
   "execution_count": 3,
   "metadata": {},
   "outputs": [
    {
     "name": "stdout",
     "output_type": "stream",
     "text": [
      "You can vote now\n"
     ]
    }
   ],
   "source": [
    "## If statement\n",
    "\n",
    "age = 28\n",
    "\n",
    "if (age >18):\n",
    "    print(\"You can vote now\")"
   ]
  },
  {
   "cell_type": "code",
   "execution_count": 7,
   "metadata": {},
   "outputs": [
    {
     "name": "stdout",
     "output_type": "stream",
     "text": [
      "You can vote now\n"
     ]
    }
   ],
   "source": [
    "## Else \n",
    "## The else statement executes the code if the statement in the IF STATEMENT is false\n",
    "\n",
    "age = int(input(\"Enter your age here: \"))\n",
    "\n",
    "if age>18:\n",
    "    print(\"You can vote now\")\n",
    "else:\n",
    "    print(\"You can not vote\")"
   ]
  },
  {
   "cell_type": "code",
   "execution_count": 11,
   "metadata": {},
   "outputs": [
    {
     "name": "stdout",
     "output_type": "stream",
     "text": [
      "Marriage is not for you\n"
     ]
    }
   ],
   "source": [
    "## elif\n",
    "age = -17\n",
    "if age>18:\n",
    "    print(\"You can get married\")\n",
    "elif age<=18:\n",
    "    print(\"Marriage is not for you\")\n",
    "else:\n",
    "    print(\"You can marry at all\")"
   ]
  },
  {
   "cell_type": "code",
   "execution_count": 15,
   "metadata": {},
   "outputs": [
    {
     "name": "stdout",
     "output_type": "stream",
     "text": [
      "The number is negative\n"
     ]
    }
   ],
   "source": [
    "num = int(input(\"Enter your number: \"))\n",
    "\n",
    "if num>0:\n",
    "    print(\"The number is positive\")\n",
    "    if num%2==0:\n",
    "        print(\"It is an even number\")\n",
    "    else:\n",
    "        print(\"It is odd number\")\n",
    "elif num == 0:\n",
    "    print(\"The number you just entered is zero\")\n",
    "else:\n",
    "    print(\"The number is negative\")"
   ]
  },
  {
   "cell_type": "code",
   "execution_count": 17,
   "metadata": {},
   "outputs": [
    {
     "name": "stdout",
     "output_type": "stream",
     "text": [
      "This is not a leap year\n"
     ]
    }
   ],
   "source": [
    "## Practical Example\n",
    "# Determine if a year is a leap year using nested condition statement\n",
    "\n",
    "year = int(input(\"Enter the year: \"))\n",
    "\n",
    "if year%4==0:\n",
    "    print(year, \"The year is a leap one\")\n",
    "else:\n",
    "    print(\"This is not a leap year\")"
   ]
  },
  {
   "cell_type": "code",
   "execution_count": 6,
   "metadata": {},
   "outputs": [
    {
     "name": "stdout",
     "output_type": "stream",
     "text": [
      "The first number is : 7.0\n",
      "The operation is : *\n",
      "The second number is : 3.0\n",
      "output: 21.0\n"
     ]
    }
   ],
   "source": [
    "## Simple calculator Program\n",
    "num1 = float(input(\"Enter your first number: \"))\n",
    "operation = input(\"what operation do you want to perform: \")\n",
    "num2 = float(input(\"Enter your second number: \"))\n",
    "\n",
    "# Print out inputs\n",
    "print(f'The first number is : {num1}')\n",
    "print(f'The operation is : {operation}')\n",
    "print(f'The second number is : {num2}')\n",
    "\n",
    "if operation == \"*\":\n",
    "    output = num1 * num2\n",
    "    print(f'output: {output}')\n",
    "elif operation == \"+\":\n",
    "    output = num1 + num2 \n",
    "    print(output)\n",
    "elif operation == \"-\":\n",
    "    output = num1 - num2\n",
    "    print(output) \n",
    "elif operation == \"/\":\n",
    "    output = num1 / num2\n",
    "    print(output)\n",
    "else:\n",
    "    output = \"Invalid\"\n",
    "    print(output)"
   ]
  },
  {
   "cell_type": "code",
   "execution_count": null,
   "metadata": {},
   "outputs": [],
   "source": []
  }
 ],
 "metadata": {
  "kernelspec": {
   "display_name": "Python 3",
   "language": "python",
   "name": "python3"
  },
  "language_info": {
   "codemirror_mode": {
    "name": "ipython",
    "version": 3
   },
   "file_extension": ".py",
   "mimetype": "text/x-python",
   "name": "python",
   "nbconvert_exporter": "python",
   "pygments_lexer": "ipython3",
   "version": "3.12.0"
  }
 },
 "nbformat": 4,
 "nbformat_minor": 2
}
