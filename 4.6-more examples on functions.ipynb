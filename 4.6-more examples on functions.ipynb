{
 "cells": [
  {
   "cell_type": "markdown",
   "metadata": {},
   "source": [
    "## Example 1: Temperature Conversion\n",
    "\n"
   ]
  },
  {
   "cell_type": "code",
   "execution_count": 5,
   "metadata": {},
   "outputs": [
    {
     "name": "stdout",
     "output_type": "stream",
     "text": [
      "89.6\n",
      "25.0\n"
     ]
    }
   ],
   "source": [
    "def convert_temp(temp,unit):\n",
    "    \"\"\"This function convert temperature between Celsius and Fahrenheit\"\"\"\n",
    "    if unit == 'C':\n",
    "        return temp * 9/5 +32   # Celsius to Fahrenheit\n",
    "    elif unit == 'F':\n",
    "        return (temp - 32) * 5/9 # Fahrenheit to Celsius\n",
    "    else:\n",
    "        return None \n",
    "print(convert_temp(32, 'C'))\n",
    "print(convert_temp(77,'F'))"
   ]
  },
  {
   "cell_type": "markdown",
   "metadata": {},
   "source": [
    "## Password strength Checker\n"
   ]
  },
  {
   "cell_type": "code",
   "execution_count": null,
   "metadata": {},
   "outputs": [],
   "source": [
    "def is_strong_password(password):\n",
    "    \"\"\"This function checks if the password is strong or not\"\"\"\n",
    "\n",
    "    if len(password)<8:\n",
    "        return False\n",
    "    if not "
   ]
  }
 ],
 "metadata": {
  "kernelspec": {
   "display_name": "Python 3",
   "language": "python",
   "name": "python3"
  },
  "language_info": {
   "codemirror_mode": {
    "name": "ipython",
    "version": 3
   },
   "file_extension": ".py",
   "mimetype": "text/x-python",
   "name": "python",
   "nbconvert_exporter": "python",
   "pygments_lexer": "ipython3",
   "version": "3.12.0"
  }
 },
 "nbformat": 4,
 "nbformat_minor": 2
}
