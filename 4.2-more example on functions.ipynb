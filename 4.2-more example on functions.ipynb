{
 "cells": [
  {
   "cell_type": "markdown",
   "metadata": {},
   "source": [
    "# Example 1: Temperature Conversion"
   ]
  },
  {
   "cell_type": "code",
   "execution_count": null,
   "metadata": {},
   "outputs": [],
   "source": []
  },
  {
   "cell_type": "code",
   "execution_count": 8,
   "metadata": {},
   "outputs": [
    {
     "name": "stdout",
     "output_type": "stream",
     "text": [
      "77.0\n",
      "25.0\n"
     ]
    }
   ],
   "source": [
    "def convert_temp(temp,unit):\n",
    "    \"\"\"This function convert temperature between celsius and fahrenheit\"\"\"\n",
    "    if unit == 'C':\n",
    "        return temp  * 9/5 + 32 # Celsius to Fahrenheit\n",
    "    elif unit == 'F':\n",
    "        return (temp - 32)*5/9 # Fahrenheit to celsius\n",
    "    else:\n",
    "        return None\n",
    "    \n",
    "print(convert_temp(25,'C'))\n",
    "print(convert_temp(77,'F'))\n",
    "    \n",
    "    "
   ]
  },
  {
   "cell_type": "markdown",
   "metadata": {},
   "source": [
    "Example 2: Password strength checker"
   ]
  },
  {
   "cell_type": "code",
   "execution_count": 10,
   "metadata": {},
   "outputs": [
    {
     "name": "stdout",
     "output_type": "stream",
     "text": [
      "False\n",
      "True\n"
     ]
    }
   ],
   "source": [
    "def is_strong_password(password):\n",
    "    \"\"\"Check if password is strong\"\"\"\n",
    "    if len(password)<8:\n",
    "        return False\n",
    "    if not any(char.isdigit() for char in password):\n",
    "        return False\n",
    "    if not any(char.islower for char in password):\n",
    "        return False\n",
    "    if not any(char.isupper() for char in password):\n",
    "        return False\n",
    "    if not any(char in '!@#$%^&*()_+' for char in password):\n",
    "        return False\n",
    "    return True\n",
    "\n",
    "# Calling the password\n",
    "print(is_strong_password(\"James\"))\n",
    "print(is_strong_password(\"James@12\"))"
   ]
  },
  {
   "cell_type": "markdown",
   "metadata": {},
   "source": [
    "Example 3: Calculate the total cost of items in shopping cart"
   ]
  },
  {
   "cell_type": "code",
   "execution_count": 15,
   "metadata": {},
   "outputs": [
    {
     "name": "stdout",
     "output_type": "stream",
     "text": [
      "2.0\n"
     ]
    }
   ],
   "source": [
    "def calc_tc(cart):\n",
    "    tc = 0\n",
    "    for item in cart:\n",
    "        tc += item['price'] * item['quantity']\n",
    "        return tc\n",
    "\n",
    "# Examples of cart data\n",
    "cart = [\n",
    "    {'name':'Apple','price':0.5,'quantity':4},\n",
    "    {'name':'Banana','price':0.3,'quantity':6},\n",
    "    {'name':'Orange','price':0.7,'quantity':3}\n",
    "]\n",
    "\n",
    "# calling the function\n",
    "tc = calc_tc(cart)\n",
    "print(tc)"
   ]
  },
  {
   "cell_type": "markdown",
   "metadata": {},
   "source": [
    "Example 4: Check IF a string i Palindrome"
   ]
  },
  {
   "cell_type": "code",
   "execution_count": 19,
   "metadata": {},
   "outputs": [
    {
     "name": "stdout",
     "output_type": "stream",
     "text": [
      "True\n",
      "False\n"
     ]
    }
   ],
   "source": [
    "def is_palidrome(s):\n",
    "    s = s.lower().replace(\" \",\"\")\n",
    "    return s==s[::-1]\n",
    "print(is_palidrome(\"A man a plan a canal Panama\"))\n",
    "print(is_palidrome(\"Hello  are you are the best\"))"
   ]
  },
  {
   "cell_type": "markdown",
   "metadata": {},
   "source": [
    "Example 5: Calculate the factorials of a number using recursion"
   ]
  },
  {
   "cell_type": "code",
   "execution_count": 26,
   "metadata": {},
   "outputs": [
    {
     "name": "stdout",
     "output_type": "stream",
     "text": [
      "402387260077093773543702433923003985719374864210714632543799910429938512398629020592044208486969404800479988610197196058631666872994808558901323829669944590997424504087073759918823627727188732519779505950995276120874975462497043601418278094646496291056393887437886487337119181045825783647849977012476632889835955735432513185323958463075557409114262417474349347553428646576611667797396668820291207379143853719588249808126867838374559731746136085379534524221586593201928090878297308431392844403281231558611036976801357304216168747609675871348312025478589320767169132448426236131412508780208000261683151027341827977704784635868170164365024153691398281264810213092761244896359928705114964975419909342221566832572080821333186116811553615836546984046708975602900950537616475847728421889679646244945160765353408198901385442487984959953319101723355556602139450399736280750137837615307127761926849034352625200015888535147331611702103968175921510907788019393178114194545257223865541461062892187960223838971476088506276862967146674697562911234082439208160153780889893964518263243671616762179168909779911903754031274622289988005195444414282012187361745992642956581746628302955570299024324153181617210465832036786906117260158783520751516284225540265170483304226143974286933061690897968482590125458327168226458066526769958652682272807075781391858178889652208164348344825993266043367660176999612831860788386150279465955131156552036093988180612138558600301435694527224206344631797460594682573103790084024432438465657245014402821885252470935190620929023136493273497565513958720559654228749774011413346962715422845862377387538230483865688976461927383814900140767310446640259899490222221765904339901886018566526485061799702356193897017860040811889729918311021171229845901641921068884387121855646124960798722908519296819372388642614839657382291123125024186649353143970137428531926649875337218940694281434118520158014123344828015051399694290153483077644569099073152433278288269864602789864321139083506217095002597389863554277196742822248757586765752344220207573630569498825087968928162753848863396909959826280956121450994871701244516461260379029309120889086942028510640182154399457156805941872748998094254742173582401063677404595741785160829230135358081840096996372524230560855903700624271243416909004153690105933983835777939410970027753472000000000000000000000000000000000000000000000000000000000000000000000000000000000000000000000000000000000000000000000000000000000000000000000000000000000000000000000000000000000000000000000000000000000000000000000000000000000000000000000000000000000\n"
     ]
    }
   ],
   "source": [
    "def calc_fac(n):\n",
    "    if n==0:\n",
    "        return 1\n",
    "    else:\n",
    "        return n * calc_fac(n-1)\n",
    "    \n",
    "print(calc_fac(1000))\n"
   ]
  },
  {
   "cell_type": "markdown",
   "metadata": {},
   "source": [
    "Example 6: A function to read a file and count the frequency of each word"
   ]
  },
  {
   "cell_type": "code",
   "execution_count": null,
   "metadata": {},
   "outputs": [
    {
     "name": "stdout",
     "output_type": "stream",
     "text": [
      "{'hello': 1, 'i': 3, 'am': 2, 'theophilus': 1, 'love': 1, 'god': 1, 'so': 1, 'much': 1, 'that': 1, 'willing': 1, 'to': 2, 'give': 1, 'my': 2, 'all': 1, 'him': 1, 'even': 1, 'if': 1, 'it': 1, 'means': 1, 'death': 1}\n",
      "sample.txt\n"
     ]
    }
   ],
   "source": [
    "def count_word_frequency(file_path):\n",
    "    word_count = {}\n",
    "    with open(file_path,'r') as file:\n",
    "        for line in file:\n",
    "            words = line.split()\n",
    "            for word in words:\n",
    "                word=word.lower().strip('.,!?;:\"\\'')\n",
    "                word_count[word]=word_count.get(word,0)+1\n",
    "    return word_count\n",
    "filepath = 'sample.txt'\n",
    "word_frequency = count_word_frequency(filepath)\n",
    "print(word_frequency)\n"
   ]
  },
  {
   "cell_type": "markdown",
   "metadata": {},
   "source": [
    "Example 7: Validate Email Address"
   ]
  },
  {
   "cell_type": "code",
   "execution_count": null,
   "metadata": {},
   "outputs": [],
   "source": []
  }
 ],
 "metadata": {
  "kernelspec": {
   "display_name": "Python 3",
   "language": "python",
   "name": "python3"
  },
  "language_info": {
   "codemirror_mode": {
    "name": "ipython",
    "version": 3
   },
   "file_extension": ".py",
   "mimetype": "text/x-python",
   "name": "python",
   "nbconvert_exporter": "python",
   "pygments_lexer": "ipython3",
   "version": "3.12.0"
  }
 },
 "nbformat": 4,
 "nbformat_minor": 2
}
