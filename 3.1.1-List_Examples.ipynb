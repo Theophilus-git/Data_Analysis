{
 "cells": [
  {
   "cell_type": "code",
   "execution_count": 4,
   "metadata": {},
   "outputs": [
    {
     "name": "stdout",
     "output_type": "stream",
     "text": [
      "Don't for to pay your bills\n",
      "To Do list remaining\n",
      "-Buy Groceries\n",
      "-Pay bills\n",
      "-Schedule meeting\n",
      "-Go for a RUn\n"
     ]
    }
   ],
   "source": [
    "#Creating a TODO List\n",
    "todo_lst = [\"Buy Groceries\",\"Clean the house\",\"Pay bills\"]\n",
    "\n",
    "#Adding to task\n",
    "todo_lst.append(\"Schedule meeting\")\n",
    "todo_lst.append(\"Go for a RUn\")\n",
    "\n",
    "# Removing a completed task\n",
    "todo_lst.remove(\"Clean the house\")\n",
    "\n",
    "#Checking if a task is in the list\n",
    "if \"Pay bills\" in todo_lst:\n",
    "    print(\"Don't for to pay your bills\")\n",
    "\n",
    "print(\"To Do list remaining\")\n",
    "for task in todo_lst:\n",
    "    print(f'-{task}')"
   ]
  },
  {
   "cell_type": "code",
   "execution_count": 5,
   "metadata": {},
   "outputs": [
    {
     "name": "stdout",
     "output_type": "stream",
     "text": [
      "Average grade: 88.66666666666667\n",
      "The highest grades is : 99\n",
      "The lowest grade is : 78\n"
     ]
    }
   ],
   "source": [
    "# Organising student grades\n",
    "grades = [85,92,78,90,88]\n",
    "\n",
    "# Adding a new grade\n",
    "grades.append(99)\n",
    "\n",
    "# Calculating the average grade\n",
    "average_grade = sum(grades)/len(grades)\n",
    "print(f'Average grade: {average_grade}')\n",
    "\n",
    "#Finding the highest and lowest grade\n",
    "high_grad = max(grades)\n",
    "low_grad = min(grades)\n",
    "print(f'The highest grades is : {high_grad}')\n",
    "print(f'The lowest grade is : {low_grad}')"
   ]
  },
  {
   "cell_type": "code",
   "execution_count": 6,
   "metadata": {},
   "outputs": [
    {
     "name": "stdout",
     "output_type": "stream",
     "text": [
      "oranges are in stock\n",
      "Inventory list:\n",
      "-bananas\n",
      "-oranges\n",
      "-grapes\n",
      "-Guava\n"
     ]
    }
   ],
   "source": [
    "# Managing and Inventory\n",
    "inventory = [\"apple\",\"bananas\",\"oranges\",\"grapes\"]\n",
    "\n",
    "# Adding a new item\n",
    "inventory.append(\"Guava\")\n",
    "\n",
    "# Removing an item from the list\n",
    "inventory.remove(\"apple\")\n",
    "\n",
    "#checking if an item is in stock\n",
    "item = \"oranges\"\n",
    "if item in inventory:\n",
    "    print(f'{item} are in stock')\n",
    "else:\n",
    "    print(f'{item} are out of stocks.')\n",
    "\n",
    "#Printing the inventory\n",
    "print(\"Inventory list:\")\n",
    "for item in inventory:\n",
    "    print(f'-{item}')"
   ]
  },
  {
   "cell_type": "code",
   "execution_count": 8,
   "metadata": {},
   "outputs": [
    {
     "name": "stdout",
     "output_type": "stream",
     "text": [
      "Positive feedback count : 3\n",
      "User Feedback:\n",
      "-Great service\n",
      "-Very satisfied\n",
      "-could be better\n",
      "-Excellent experience\n",
      "-Great experience\n",
      "-Poor service\n"
     ]
    }
   ],
   "source": [
    "# Collecting and analyzing user feedback\n",
    "feedback = [\"Great service\",\"Very satisfied\",\"could be better\",\"Excellent experience\"]\n",
    "\n",
    "# Adding new feedback\n",
    "feedback.append(\"Great experience\")\n",
    "feedback.append(\"Poor service\")\n",
    "\n",
    "#Counting specific feedback\n",
    "pos_fb_count = sum(1 for comment in feedback if \"great\" in comment.lower() or \"excellent\" in comment.lower())\n",
    "print(f'Positive feedback count : {pos_fb_count}')\n",
    "\n",
    "# Printing all feedback\n",
    "print(\"User Feedback:\")\n",
    "for comment in feedback:\n",
    "    print(f'-{comment}')"
   ]
  },
  {
   "cell_type": "code",
   "execution_count": null,
   "metadata": {},
   "outputs": [],
   "source": []
  }
 ],
 "metadata": {
  "kernelspec": {
   "display_name": "Python 3",
   "language": "python",
   "name": "python3"
  },
  "language_info": {
   "codemirror_mode": {
    "name": "ipython",
    "version": 3
   },
   "file_extension": ".py",
   "mimetype": "text/x-python",
   "name": "python",
   "nbconvert_exporter": "python",
   "pygments_lexer": "ipython3",
   "version": "3.12.0"
  }
 },
 "nbformat": 4,
 "nbformat_minor": 2
}
