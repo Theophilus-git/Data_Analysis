{
 "cells": [
  {
   "cell_type": "markdown",
   "metadata": {},
   "source": [
    "## Deep Dive into operators"
   ]
  },
  {
   "cell_type": "code",
   "execution_count": 5,
   "metadata": {},
   "outputs": [
    {
     "name": "stdout",
     "output_type": "stream",
     "text": [
      "15\n",
      "5\n",
      "2.0\n",
      "50\n",
      "2\n",
      "0\n",
      "100000\n"
     ]
    }
   ],
   "source": [
    "## Arithmetic Operation\n",
    "\n",
    "a= 10\n",
    "b = 5\n",
    "\n",
    "add_result =( a+ b) # Addition\n",
    "sub_result = a-b # Substraction\n",
    "div_result = a/b # Division\n",
    "mult_result = a*b # Multiplication\n",
    "floor_div_result = a // b # Floor division\n",
    "modulus_result = a%b\n",
    "exponential_result = a**b\n",
    "print(add_result)\n",
    "print(sub_result)\n",
    "print(div_result)\n",
    "print(mult_result)\n",
    "print(floor_div_result)\n",
    "print(modulus_result)\n",
    "print(exponential_result)"
   ]
  },
  {
   "cell_type": "code",
   "execution_count": 7,
   "metadata": {},
   "outputs": [
    {
     "data": {
      "text/plain": [
       "False"
      ]
     },
     "execution_count": 7,
     "metadata": {},
     "output_type": "execute_result"
    }
   ],
   "source": [
    "# Commparrison Operators\n",
    "# ==\n",
    "\n",
    "a = 10\n",
    "b = 5\n",
    " \n",
    "a==b\n"
   ]
  },
  {
   "cell_type": "code",
   "execution_count": 8,
   "metadata": {},
   "outputs": [
    {
     "data": {
      "text/plain": [
       "True"
      ]
     },
     "execution_count": 8,
     "metadata": {},
     "output_type": "execute_result"
    }
   ],
   "source": [
    "# Not equal to !=\n",
    "a!=b"
   ]
  },
  {
   "cell_type": "code",
   "execution_count": 9,
   "metadata": {},
   "outputs": [
    {
     "data": {
      "text/plain": [
       "False"
      ]
     },
     "execution_count": 9,
     "metadata": {},
     "output_type": "execute_result"
    }
   ],
   "source": [
    "# greater than\n",
    "num1 = 24\n",
    "num2 = 28\n",
    "\n",
    "num1>num2"
   ]
  },
  {
   "cell_type": "code",
   "execution_count": 11,
   "metadata": {},
   "outputs": [
    {
     "name": "stdout",
     "output_type": "stream",
     "text": [
      "True\n"
     ]
    }
   ],
   "source": [
    "# less than\n",
    "print(num1 < num2)"
   ]
  },
  {
   "cell_type": "markdown",
   "metadata": {},
   "source": [
    "## Logical Operators\n"
   ]
  },
  {
   "cell_type": "code",
   "execution_count": null,
   "metadata": {},
   "outputs": [
    {
     "data": {
      "text/plain": [
       "True"
      ]
     },
     "execution_count": 14,
     "metadata": {},
     "output_type": "execute_result"
    }
   ],
   "source": [
    "# And, Or, Not\n",
    "\n",
    "##  And \n",
    "x = True\n",
    "y = True\n",
    "\n",
    "x and y\n",
    "# It only true when both variables are true"
   ]
  },
  {
   "cell_type": "code",
   "execution_count": 15,
   "metadata": {},
   "outputs": [
    {
     "data": {
      "text/plain": [
       "True"
      ]
     },
     "execution_count": 15,
     "metadata": {},
     "output_type": "execute_result"
    }
   ],
   "source": [
    "## OR\n",
    "x = True\n",
    "y = False\n",
    "x or y\n",
    "# The output is true when one of the variables is true, when all are false the output is false"
   ]
  },
  {
   "cell_type": "code",
   "execution_count": 2,
   "metadata": {},
   "outputs": [
    {
     "name": "stdout",
     "output_type": "stream",
     "text": [
      "num1: 17.0\n",
      "num2: 3.0\n",
      "The Addition is 20.0\n",
      "The Substraction is 14.0\n",
      "The division is 5.666666666666667\n",
      "The multiplication is 51.0\n",
      "The floor division result is 5.0\n",
      "The modulo is 2.0\n",
      "The exponential results is 4913.0\n"
     ]
    }
   ],
   "source": [
    "# A Simple Calculator\n",
    "num1 = float(input(\"Enter first number: \"))\n",
    "num2 = float(input(\"Enter second number: \"))\n",
    "\n",
    "# Printing figures that the operations will be performed on\n",
    "print(f'num1: {num1}')\n",
    "print(f'num2: {num2}')\n",
    "\n",
    "#Performing arithmetic Operations\n",
    "add_result =( num1+num2) # Addition\n",
    "sub_result = num1-num2 # Substraction\n",
    "div_result = num1/num2 # Division\n",
    "mult_result = num1*num2 # Multiplication\n",
    "floor_div_result = num1//num2 # Floor division\n",
    "modulus_result = num1%num2\n",
    "exponential_result = num1**num2\n",
    "print(f'The Addition is {add_result}')\n",
    "print(f'The Substraction is {sub_result}')\n",
    "print(f'The division is {div_result}')\n",
    "print(f\"The multiplication is {mult_result}\")\n",
    "print(f'The floor division result is {floor_div_result}')\n",
    "print(f'The modulo is {modulus_result}')\n",
    "print(f'The exponential results is {exponential_result}')"
   ]
  },
  {
   "cell_type": "code",
   "execution_count": null,
   "metadata": {},
   "outputs": [],
   "source": []
  }
 ],
 "metadata": {
  "kernelspec": {
   "display_name": "Python 3",
   "language": "python",
   "name": "python3"
  },
  "language_info": {
   "codemirror_mode": {
    "name": "ipython",
    "version": 3
   },
   "file_extension": ".py",
   "mimetype": "text/x-python",
   "name": "python",
   "nbconvert_exporter": "python",
   "pygments_lexer": "ipython3",
   "version": "3.12.0"
  }
 },
 "nbformat": 4,
 "nbformat_minor": 2
}
