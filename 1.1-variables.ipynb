{
 "cells": [
  {
   "cell_type": "markdown",
   "metadata": {},
   "source": [
    "## Variables\n",
    "\n",
    "Variables are fundamental in programming used to store data that can be referenced and manipulated in a program. In python, the variable are created when you assign a value to them."
   ]
  },
  {
   "cell_type": "code",
   "execution_count": 1,
   "metadata": {},
   "outputs": [
    {
     "name": "stdout",
     "output_type": "stream",
     "text": [
      "age : 21\n",
      "Height : 3.7\n",
      "Name : Theo\n"
     ]
    }
   ],
   "source": [
    "# Declaring and assigning a variables\n",
    "\n",
    "age = 21\n",
    "height = 3.7\n",
    "name = \"Theo\"\n",
    "is_student = True\n",
    "\n",
    "# Printing the variable\n",
    "\n",
    "print(\"age :\",age)\n",
    "print(\"Height :\",height)\n",
    "print(\"Name :\",name)"
   ]
  },
  {
   "cell_type": "code",
   "execution_count": 4,
   "metadata": {},
   "outputs": [],
   "source": [
    "# Naming Convention\n",
    "# Variable names should be descriptive\n",
    "# They must start with a letter or an '_' and contains letter,numbers and underscore\n",
    "# Variables are case sensitive\n",
    "\n",
    "# Valid variable names\n",
    "first_name = \"Theophilus\"\n",
    "last_name = \"Ofori\""
   ]
  },
  {
   "cell_type": "code",
   "execution_count": 6,
   "metadata": {},
   "outputs": [
    {
     "ename": "SyntaxError",
     "evalue": "invalid syntax. Maybe you meant '==' or ':=' instead of '='? (3807900125.py, line 5)",
     "output_type": "error",
     "traceback": [
      "\u001b[1;36m  Cell \u001b[1;32mIn[6], line 5\u001b[1;36m\u001b[0m\n\u001b[1;33m    @name = \"Jake\"\u001b[0m\n\u001b[1;37m     ^\u001b[0m\n\u001b[1;31mSyntaxError\u001b[0m\u001b[1;31m:\u001b[0m invalid syntax. Maybe you meant '==' or ':=' instead of '='?\n"
     ]
    }
   ],
   "source": [
    "# Invalid variable names\n",
    "\n",
    "#2age = 30\n",
    "#first-name = \"Charis\"\n",
    "#@name = \"Jake\""
   ]
  },
  {
   "cell_type": "code",
   "execution_count": 7,
   "metadata": {},
   "outputs": [
    {
     "data": {
      "text/plain": [
       "False"
      ]
     },
     "execution_count": 7,
     "metadata": {},
     "output_type": "execute_result"
    }
   ],
   "source": [
    "# Case sentive\n",
    "\n",
    "name = \"Charis\"\n",
    "Name = \"Erastus\"\n",
    "name==Name"
   ]
  },
  {
   "cell_type": "code",
   "execution_count": 8,
   "metadata": {},
   "outputs": [
    {
     "name": "stdout",
     "output_type": "stream",
     "text": [
      "<class 'int'>\n"
     ]
    }
   ],
   "source": [
    "# Understanding variable types\n",
    "# Python is dynamically type, which means type of variable is determine at runtime\n",
    "age = 21 #int\n",
    "height = 3.7 #float\n",
    "name = \"Charis\"#string\n",
    "is_student = True # bool\n",
    "\n",
    "print(type(age))"
   ]
  },
  {
   "cell_type": "code",
   "execution_count": 9,
   "metadata": {},
   "outputs": [
    {
     "data": {
      "text/plain": [
       "float"
      ]
     },
     "execution_count": 9,
     "metadata": {},
     "output_type": "execute_result"
    }
   ],
   "source": [
    "## Type Checking and conversion\n",
    "type(height)"
   ]
  },
  {
   "cell_type": "code",
   "execution_count": 12,
   "metadata": {},
   "outputs": [
    {
     "name": "stdout",
     "output_type": "stream",
     "text": [
      "<class 'int'>\n",
      "25\n",
      "<class 'str'>\n"
     ]
    }
   ],
   "source": [
    "age = 25\n",
    "print(type(age))\n",
    "\n",
    "# Type Conversion\n",
    "\n",
    "age_str = str(age)\n",
    "print(age_str)\n",
    "print(type(age_str))"
   ]
  },
  {
   "cell_type": "code",
   "execution_count": 16,
   "metadata": {},
   "outputs": [
    {
     "name": "stdout",
     "output_type": "stream",
     "text": [
      "<class 'int'>\n"
     ]
    }
   ],
   "source": [
    "age = \"25\"\n",
    "print(type(int(age)))\n",
    "\n"
   ]
  },
  {
   "cell_type": "code",
   "execution_count": 17,
   "metadata": {},
   "outputs": [
    {
     "ename": "ValueError",
     "evalue": "invalid literal for int() with base 10: 'Charis'",
     "output_type": "error",
     "traceback": [
      "\u001b[1;31m---------------------------------------------------------------------------\u001b[0m",
      "\u001b[1;31mValueError\u001b[0m                                Traceback (most recent call last)",
      "Cell \u001b[1;32mIn[17], line 3\u001b[0m\n\u001b[0;32m      1\u001b[0m name \u001b[38;5;241m=\u001b[39m \u001b[38;5;124m\"\u001b[39m\u001b[38;5;124mCharis\u001b[39m\u001b[38;5;124m\"\u001b[39m\n\u001b[1;32m----> 3\u001b[0m \u001b[38;5;28;43mint\u001b[39;49m\u001b[43m(\u001b[49m\u001b[43mname\u001b[49m\u001b[43m)\u001b[49m\n",
      "\u001b[1;31mValueError\u001b[0m: invalid literal for int() with base 10: 'Charis'"
     ]
    }
   ],
   "source": [
    "name = \"Charis\"\n",
    "\n",
    "int(name)"
   ]
  },
  {
   "cell_type": "code",
   "execution_count": 20,
   "metadata": {},
   "outputs": [
    {
     "data": {
      "text/plain": [
       "3.0"
      ]
     },
     "execution_count": 20,
     "metadata": {},
     "output_type": "execute_result"
    }
   ],
   "source": [
    "height = 3.72\n",
    "float(int(height))"
   ]
  },
  {
   "cell_type": "code",
   "execution_count": 23,
   "metadata": {},
   "outputs": [
    {
     "name": "stdout",
     "output_type": "stream",
     "text": [
      "10 <class 'int'>\n",
      "Hello <class 'str'>\n"
     ]
    }
   ],
   "source": [
    "## Dynamic Typing\n",
    "## Python allowss the variable to change as the program executes\n",
    "\n",
    "\n",
    "\n",
    "var = 10\n",
    "print(var, type(var))\n",
    "\n",
    "var = \"Hello\"\n",
    "print(var,type(var))"
   ]
  },
  {
   "cell_type": "code",
   "execution_count": 25,
   "metadata": {},
   "outputs": [
    {
     "name": "stdout",
     "output_type": "stream",
     "text": [
      "21 <class 'int'>\n"
     ]
    }
   ],
   "source": [
    "## input\n",
    "\n",
    "age = int(input(\"Enter your age: \"))\n",
    "print(age,type(age))\n"
   ]
  },
  {
   "cell_type": "code",
   "execution_count": 27,
   "metadata": {},
   "outputs": [
    {
     "name": "stdout",
     "output_type": "stream",
     "text": [
      "Sum :  26.0\n",
      "Difference :  2.0\n",
      "Multiplication  :  168.0\n",
      "Division :  1.1666666666666667\n"
     ]
    }
   ],
   "source": [
    "## Simple calculator\n",
    "\n",
    "num1 = float(input(\"Enter number: \"))\n",
    "num2 = float(input(\"Enter number: \"))\n",
    "\n",
    "sum = num1 + num2\n",
    "difference = num1 - num2\n",
    "multiplication = num1 * num2\n",
    "division = num1 / num2\n",
    "\n",
    "print(\"Sum : \",sum)\n",
    "print(\"Difference : \",difference)\n",
    "print(\"Multiplication  : \",multiplication)\n",
    "print(\"Division : \",division)"
   ]
  },
  {
   "cell_type": "code",
   "execution_count": null,
   "metadata": {},
   "outputs": [],
   "source": []
  }
 ],
 "metadata": {
  "kernelspec": {
   "display_name": "Python 3",
   "language": "python",
   "name": "python3"
  },
  "language_info": {
   "codemirror_mode": {
    "name": "ipython",
    "version": 3
   },
   "file_extension": ".py",
   "mimetype": "text/x-python",
   "name": "python",
   "nbconvert_exporter": "python",
   "pygments_lexer": "ipython3",
   "version": "3.12.0"
  }
 },
 "nbformat": 4,
 "nbformat_minor": 2
}
